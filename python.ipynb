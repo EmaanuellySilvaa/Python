{
  "nbformat": 4,
  "nbformat_minor": 0,
  "metadata": {
    "colab": {
      "provenance": [],
      "authorship_tag": "ABX9TyOW5cgUTE2Q+nkeDtur41fS",
      "include_colab_link": true
    },
    "kernelspec": {
      "name": "python3",
      "display_name": "Python 3"
    },
    "language_info": {
      "name": "python"
    }
  },
  "cells": [
    {
      "cell_type": "markdown",
      "metadata": {
        "id": "view-in-github",
        "colab_type": "text"
      },
      "source": [
        "<a href=\"https://colab.research.google.com/github/EmaanuellySilvaa/Python/blob/main/python.ipynb\" target=\"_parent\"><img src=\"https://colab.research.google.com/assets/colab-badge.svg\" alt=\"Open In Colab\"/></a>"
      ]
    },
    {
      "cell_type": "code",
      "execution_count": null,
      "metadata": {
        "id": "3zvMUJfXzHGG"
      },
      "outputs": [],
      "source": []
    },
    {
      "cell_type": "markdown",
      "source": [
        "#**Aula 1** ⛱ 🦫 🌴"
      ],
      "metadata": {
        "id": "TFPmNbKszdSW"
      }
    },
    {
      "cell_type": "code",
      "source": [
        "ano = \"IV\"\n",
        "print (ano, \"competição de programação dá Start\")"
      ],
      "metadata": {
        "colab": {
          "base_uri": "https://localhost:8080/"
        },
        "id": "DPUlut3_z7jb",
        "outputId": "0f5c5f51-380d-4dd8-bc87-37b21ab58141"
      },
      "execution_count": null,
      "outputs": [
        {
          "output_type": "stream",
          "name": "stdout",
          "text": [
            "IV competição de programação dá Start\n"
          ]
        }
      ]
    },
    {
      "cell_type": "markdown",
      "source": [
        "#**Aula 2**⛄ ⛅ ✨"
      ],
      "metadata": {
        "id": "_WuM3YIk2OXd"
      }
    },
    {
      "cell_type": "code",
      "source": [
        "livro_ficcao = 8\n",
        "livro_n_ficcao = 10\n",
        "livro_infantil = 6\n",
        "pontos_rodrigo = livro_ficcao + livro_n_ficcao + livro_infantil\n",
        "pontos_ana= 2 * livro_ficcao + 5 * livro_infantil\n",
        "pontos_totais = pontos_rodrigo + pontos_ana\n",
        "print(f\"Os pontos totais do Rodrigo são {pontos_rodrigo}\")\n",
        "print(f\"Os pontos totais de Ana são {pontos_ana}\")\n",
        "print(f\"Os pontos totais de Ana e Rodrigo são {pontos_totais}\")"
      ],
      "metadata": {
        "colab": {
          "base_uri": "https://localhost:8080/"
        },
        "id": "jfxeWksE2T19",
        "outputId": "74711d15-cede-4c77-fd6c-0fd727fefbaf"
      },
      "execution_count": null,
      "outputs": [
        {
          "output_type": "stream",
          "name": "stdout",
          "text": [
            "Os pontos totais do Rodrigo são 24\n",
            "Os pontos totais de Ana são 46\n",
            "Os pontos totais de Ana e Rodrigo são 70\n"
          ]
        }
      ]
    },
    {
      "cell_type": "markdown",
      "source": [
        "#**Aula 3** 🦡 💝 🌻"
      ],
      "metadata": {
        "id": "VybicNzK5DbB"
      }
    },
    {
      "cell_type": "code",
      "source": [
        "total_de_figurinhas = int(input(\"Digite o total de figurinhas: \"))\n",
        "numero_de_amigos = int(input(\"Digite o número de amigos: \"))\n",
        "figurinhas_amigo = total_de_figurinhas // (numero_de_amigos + 2)\n",
        "figurinhas_Anderson = 2 * figurinhas_amigo\n",
        "figurinhas_extras = int(input(\"Digite o numero de figurinhas extras: \"))\n",
        "figurinhas_extras = figurinhas_extras // (numero_de_amigos + 2)\n",
        "figurinhas_Anderson2 = figurinhas_extras * 2\n",
        "\n",
        "print(f\"Anderson recebeu {figurinhas_Anderson} figurinhas\")\n",
        "print(f\"Anderson recebeu {figurinhas_Anderson2} figurinhas extras\")\n",
        "\n"
      ],
      "metadata": {
        "id": "ydo2JHsG5VVT",
        "colab": {
          "base_uri": "https://localhost:8080/"
        },
        "outputId": "58ef7472-a4cf-4961-a153-df08a4b06b47"
      },
      "execution_count": null,
      "outputs": [
        {
          "output_type": "stream",
          "name": "stdout",
          "text": [
            "Digite o total de figurinhas: 700\n",
            "Digite o número de amigos: 9\n",
            "Digite o numero de figurinhas extras: 80\n",
            "Anderson recebeu 126 figurinhas\n",
            "Anderson recebeu 14 figurinhas extras\n"
          ]
        }
      ]
    },
    {
      "cell_type": "markdown",
      "source": [
        "#**Aula 4** ❤ ✳ ☪\n",
        "\n",
        "##**Dia de Prova**"
      ],
      "metadata": {
        "id": "sYZqWWMn31VX"
      }
    },
    {
      "cell_type": "code",
      "source": [
        "P = int(input(\"Digite a posição da porta P (0 ou 1): \"))\n",
        "R = int(input(\"Digite a posição da porta R (0 ou 1): \"))\n",
        "if P == 0:\n",
        "    print(\"C\")\n",
        "elif R == 1:\n",
        "    print(\"A\")\n",
        "else:\n",
        "    print(\"B\")"
      ],
      "metadata": {
        "id": "e1Lg9tH53332",
        "colab": {
          "base_uri": "https://localhost:8080/"
        },
        "outputId": "4771eec8-8cbc-4816-e14c-bac3c9b3d7e4"
      },
      "execution_count": null,
      "outputs": [
        {
          "output_type": "stream",
          "name": "stdout",
          "text": [
            "Digite a posição da porta P (0 ou 1): 0\n",
            "Digite a posição da porta R (0 ou 1): 1\n",
            "C\n"
          ]
        }
      ]
    },
    {
      "cell_type": "markdown",
      "source": [
        "#**Aula 5 -Calculo de IMC** 🦕 🌺 🍎"
      ],
      "metadata": {
        "id": "vgRAIDaR7jGh"
      }
    },
    {
      "cell_type": "code",
      "source": [
        "peso = float(input(\"Digite seu peso (em kg): \"))\n",
        "altura = float(input(\"Digite sua altura (em metros): \"))\n",
        "imc = peso / (altura ** 2)\n",
        "print(f\"\\nSeu IMC é: {imc:.2f}\")\n",
        "if imc < 18.5:\n",
        "    print(\"Você está abaixo do peso.\")\n",
        "elif 18.5 <= imc < 25:\n",
        "    print(\"Você está no peso ideal.\")\n",
        "elif 25 <= imc < 30:\n",
        "    print(\"Você está com sobrepeso.\")\n",
        "else:\n",
        "    print(\"Você está acima do peso.\")"
      ],
      "metadata": {
        "colab": {
          "base_uri": "https://localhost:8080/"
        },
        "id": "xqU9VcUS8iX1",
        "outputId": "69342b5e-1ac3-4b9a-daf3-6f51dc6bd7a2"
      },
      "execution_count": null,
      "outputs": [
        {
          "output_type": "stream",
          "name": "stdout",
          "text": [
            "Digite seu peso (em kg): 56\n",
            "Digite sua altura (em metros): 1.56\n",
            "\n",
            "Seu IMC é: 23.01\n",
            "Você está no peso ideal.\n"
          ]
        }
      ]
    },
    {
      "cell_type": "markdown",
      "source": [
        "##***Aula 6 Tabuada*** 🐝 🍁 🙃"
      ],
      "metadata": {
        "id": "N9lU2xs1_UBq"
      }
    },
    {
      "cell_type": "code",
      "source": [
        "def tabuada(numero):\n",
        "    for contador in range(1, 11):  # Gera números de 1 a 10\n",
        "        print(f\"{numero} x {contador} = {numero * contador}\")\n",
        "numero = int(input(\"Digite um número para ver sua tabuada: \"))\n",
        "tabuada(numero)"
      ],
      "metadata": {
        "colab": {
          "base_uri": "https://localhost:8080/"
        },
        "id": "iL57gB7FABT3",
        "outputId": "818217a1-ed6a-4663-c449-5f5f6fe81190"
      },
      "execution_count": null,
      "outputs": [
        {
          "output_type": "stream",
          "name": "stdout",
          "text": [
            "Digite um número para ver sua tabuada: 12\n",
            "12 x 1 = 12\n",
            "12 x 2 = 24\n",
            "12 x 3 = 36\n",
            "12 x 4 = 48\n",
            "12 x 5 = 60\n",
            "12 x 6 = 72\n",
            "12 x 7 = 84\n",
            "12 x 8 = 96\n",
            "12 x 9 = 108\n",
            "12 x 10 = 120\n"
          ]
        }
      ]
    },
    {
      "cell_type": "markdown",
      "source": [
        "##**Aula 7** 🐜 🦓 ❤"
      ],
      "metadata": {
        "id": "epcK2gVnCEgo"
      }
    },
    {
      "cell_type": "code",
      "source": [
        "def calcula_idade_maior(idade_monica, idade_filho1, idade_filho2):\n",
        "    idade_filho3 = idade_monica - idade_filho1 - idade_filho2\n",
        "    idade_maxima = max(idade_filho1, idade_filho2, idade_filho3)\n",
        "    return idade_filho3, idade_maxima\n",
        "resultado = calcula_idade_maior(68, 12, 30)\n",
        "print(resultado)\n"
      ],
      "metadata": {
        "colab": {
          "base_uri": "https://localhost:8080/"
        },
        "id": "yopCIx4QDTiv",
        "outputId": "3433a3e6-1c44-472c-dd68-622658eb23ec"
      },
      "execution_count": null,
      "outputs": [
        {
          "output_type": "stream",
          "name": "stdout",
          "text": [
            "(26, 30)\n"
          ]
        }
      ]
    },
    {
      "cell_type": "markdown",
      "source": [
        "#**Aula 8**"
      ],
      "metadata": {
        "id": "QJmg0BX0FJYj"
      }
    },
    {
      "cell_type": "code",
      "source": [
        "print(\"sou seu asistente virtual \\nprint\")\n",
        "nome = input(\"digite seu nome: \")\n",
        "print(f\"Olá {nome}, em que poso ajudar?\")\n",
        "print(\"Qual assunto você deseja tratar? Matematica, Python ou Javascript\")"
      ],
      "metadata": {
        "colab": {
          "base_uri": "https://localhost:8080/"
        },
        "id": "v9qS6LNEFXpE",
        "outputId": "5a6d5304-a57e-4eca-b92f-566486be1e42"
      },
      "execution_count": 3,
      "outputs": [
        {
          "output_type": "stream",
          "name": "stdout",
          "text": [
            "sou seu asistente virtual \n",
            "\n",
            "digite seu nome: manu\n",
            "Olá manu, em que poso ajudar?\n"
          ]
        }
      ]
    }
  ]
}